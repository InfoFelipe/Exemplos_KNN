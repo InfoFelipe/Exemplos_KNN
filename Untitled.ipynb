{
 "cells": [
  {
   "cell_type": "markdown",
   "id": "7cff88f0-ef2e-4099-b8ac-a11fcdb54c75",
   "metadata": {},
   "source": [
    "### O KNN (K-Nearest Neighbors) "
   ]
  },
  {
   "cell_type": "markdown",
   "id": "a014f9b7-0a02-40dc-864f-056bd0f1f859",
   "metadata": {},
   "source": [
    "#### O KNN (K-Nearest Neighbors) utiliza a lógica de similaridade entre os K pontos mais próximos do dataset para estimar o valor das novas observações."
   ]
  },
  {
   "cell_type": "markdown",
   "id": "9265db1f-951a-437a-9c06-676922892fc9",
   "metadata": {},
   "source": [
    "#### O resultado é definido como da mesma classe da maioria dos pontos mais próximos a ele e somos nós que escolhemos a quantidade de pontos que serão analisados.\n",
    "#### **A previsão é feita basicamente medindo a distância dos pontos ao redor dele**"
   ]
  },
  {
   "cell_type": "markdown",
   "id": "6a449a9f-990c-4789-9705-4ee7b61be373",
   "metadata": {},
   "source": [
    "#### No KNN todo processamento é feito no momento da previsão, por isso é chamado de \"aprendizado preguiçoso\"(lazy learning)."
   ]
  },
  {
   "cell_type": "markdown",
   "id": "93a11011-b55f-43dc-92a2-8e610b1a32c8",
   "metadata": {},
   "source": [
    "### Hiperparâmetro weigths"
   ]
  },
  {
   "cell_type": "markdown",
   "id": "d63fea42-3406-4bec-aa02-829e91220b16",
   "metadata": {},
   "source": [
    "#### Por padrão, cada ponto possui o memso peso na previsão, porém é possível utilizar o hiperparâmetro \"weights\" com o valor \"distance\" para fazer os pontos mais próximos terem mais influência na previsão."
   ]
  },
  {
   "cell_type": "markdown",
   "id": "672ccb7a-4c9c-4f4a-9984-0a788e19aa44",
   "metadata": {},
   "source": [
    "### Quantidade de pontos"
   ]
  },
  {
   "cell_type": "markdown",
   "id": "b4dbfeca-77c6-4d4b-8cb8-6731763b6c94",
   "metadata": {},
   "source": [
    "#### Se definirmos que vamos utilizar 4 pontos mais próximos, então sempre vamos pegar os 4 pontos, mesmo que estejam distante demais."
   ]
  },
  {
   "cell_type": "markdown",
   "id": "7effd81a-8ea3-479b-bd5b-9c580a57ba30",
   "metadata": {},
   "source": [
    "#### Se quiser pegar a quantidade de pontos dentro de uma região, mais próximos, pode ser considerado os vizinhos dentro de um raio específico utilizando o **RadiusNeighborsClassifier**"
   ]
  },
  {
   "cell_type": "code",
   "execution_count": null,
   "id": "fb78a59a-6759-4f69-a8c4-88e19b66044a",
   "metadata": {},
   "outputs": [],
   "source": []
  }
 ],
 "metadata": {
  "kernelspec": {
   "display_name": "Python 3 (ipykernel)",
   "language": "python",
   "name": "python3"
  },
  "language_info": {
   "codemirror_mode": {
    "name": "ipython",
    "version": 3
   },
   "file_extension": ".py",
   "mimetype": "text/x-python",
   "name": "python",
   "nbconvert_exporter": "python",
   "pygments_lexer": "ipython3",
   "version": "3.10.9"
  }
 },
 "nbformat": 4,
 "nbformat_minor": 5
}
